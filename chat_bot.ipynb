{
  "nbformat": 4,
  "nbformat_minor": 0,
  "metadata": {
    "colab": {
      "provenance": []
    },
    "kernelspec": {
      "name": "python3",
      "display_name": "Python 3"
    },
    "language_info": {
      "name": "python"
    }
  },
  "cells": [
    {
      "cell_type": "code",
      "execution_count": null,
      "metadata": {
        "id": "1b1a3JNrK6L1"
      },
      "outputs": [],
      "source": [
        "import re\n",
        "import random"
      ]
    },
    {
      "cell_type": "code",
      "source": [
        "class RuleBot:\n",
        "  negr=(\"no\",\"nope\",\"nah\",\"not a chance\",\"sorry\")\n",
        "  exitc=(\"quit\",\"pause\",\"exit\",\"goodbye\",\"bye\",\"later\")\n",
        "  ranque=(\n",
        "      \"Why are you here? \",\n",
        "      \"Are there any people like you? \",\n",
        "\n",
        "      \"Is there any significant monument? \",\n",
        "      \"Does your country have a leader? \",\n",
        "      \"What country have you visited? \",\n",
        "      \"What technologies do you have ? \"\n",
        "  )\n",
        "  def __init__(self):\n",
        "    self.alienable={'describe_planet_intent':r'.*\\s*yourplanet.*',\n",
        "                    'answer_why_intent':r'why\\sare.*',\n",
        "                    'about_intelligent':r'.*\\s*intelligent'\n",
        "                    }\n",
        "  def greet(self):\n",
        "    self.name=input(\"What is your name?\\n\")\n",
        "    will_help=input(\n",
        "        f\"Hi {self.name}, I am Rule-Bot. Will you help me learn about your country?\\n\" )\n",
        "    if will_help in self.negr:\n",
        "      print(\"Ok,have a nice day!\")\n",
        "      return\n",
        "    self.chat()\n",
        "  def make_exit(self,reply):\n",
        "    for command in self.exitc:\n",
        "      if reply==command:\n",
        "        print(\"Okay,have a nice day!\")\n",
        "        return True\n",
        "  def chat(self):\n",
        "    reply=input(random.choice(self.ranque)).lower()\n",
        "    while not self.make_exit(reply):\n",
        "      reply=input(self.match_reply(reply))\n",
        "\n",
        "  def match_reply(self,reply):\n",
        "    for key, value in self.alienable.items():\n",
        "      intent=key\n",
        "      regex_pattern=value\n",
        "      found_match=re.match(regex_pattern,reply)\n",
        "      if found_match and intent =='describe_planet_intent':\n",
        "        return self.describe_planet_intent()\n",
        "      elif found_match and intent =='answer_why_intent':\n",
        "        return self.answer_why_intent()\n",
        "      elif found_match and intent =='about_intelligent':\n",
        "        return self.about_intelligent()\n",
        "    if not found_match:\n",
        "      return self.no_match_intent()\n",
        "  def describe_planet_intent(self):\n",
        "    responses=(\" My country is india . \\n\",\n",
        "               \"Famous for it's diversity.\\n\")\n",
        "    return random.choice(responses)\n",
        "\n",
        "  def answer_why_intent(self):\n",
        "    responses=(\" TO collect data to create AI \\n\",\n",
        "               \"An AI like chat GPT\\n\",\n",
        "               \"I heard you are intelligent beings!\\n\")\n",
        "    return random.choice(responses)\n",
        "  def about_intelligent(self):\n",
        "    responses=(\" We are intelligent \\n\",\n",
        "               \"we can decide our own acion and reaction\\n\")\n",
        "    return random.choice(responses)\n",
        "\n",
        "  def no_match_intent(self):\n",
        "    responses=(\"Tell me mor,\\n\",\n",
        "               \"please tell me more\\n\",\n",
        "               \"Why do you say that\\n\",\n",
        "               \"I see, can you elaborate?\\n\",\n",
        "               \"Can you tell me more?\\n\",\n",
        "               \"How do you think?\\n\",\n",
        "               \"Why?\\n\",\n",
        "               \"How do you think i feel when yu say that?\\n\")\n",
        "    return random.choice(responses)\n",
        "Alienbot=RuleBot()\n",
        "Alienbot.greet()\n",
        "\n",
        "\n",
        "\n",
        "\n",
        "\n",
        "\n"
      ],
      "metadata": {
        "colab": {
          "base_uri": "https://localhost:8080/"
        },
        "id": "53j5JAj_LJ55",
        "outputId": "fc0847ef-2836-4179-b6e3-9d49236b08ef"
      },
      "execution_count": null,
      "outputs": [
        {
          "output_type": "stream",
          "name": "stdout",
          "text": [
            "What is your name?\n",
            "samiksha\n",
            "Hi samiksha, I am Rule-Bot. Will you help me learn about your country?\n",
            "india\n",
            "Why are you here? becuase my family lives here\n",
            "Why do you say that\n",
            "because i want to\n",
            "Tell me mor,\n",
            "no, quit\n",
            "I see, can you elaborate?\n",
            "quit\n",
            "Okay,have a nice day!\n"
          ]
        }
      ]
    },
    {
      "cell_type": "code",
      "source": [],
      "metadata": {
        "id": "2KP4z16kcMO2"
      },
      "execution_count": null,
      "outputs": []
    }
  ]
}